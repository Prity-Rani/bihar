{
 "cells": [
  {
   "cell_type": "code",
   "execution_count": 51,
   "metadata": {},
   "outputs": [],
   "source": [
    "import requests as req\n",
    "from bs4 import BeautifulSoup as bs\n",
    "import pandas as pd\n",
    "import time\n",
    "import matplotlib.pyplot as plt\n",
    "import json\n",
    "from collections import OrderedDict"
   ]
  },
  {
   "cell_type": "code",
   "execution_count": 52,
   "metadata": {},
   "outputs": [],
   "source": [
    "url=\"https://results.eci.gov.in/ACTRENDS2020/\"\n",
    "a=\"ConstituencywiseS04\"\n",
    "#consti_number=str(consti_number)\n",
    "b=\"4\"\n",
    "c=\".htm?ac=\"\n",
    "url=url+a+b+c+b\n",
    "response=req.get(url)\n",
    "soup=bs(response.text)"
   ]
  },
  {
   "cell_type": "code",
   "execution_count": 53,
   "metadata": {},
   "outputs": [
    {
     "data": {
      "text/plain": [
       "odict_keys([1, 2, 3, 4, 5, 6, 7, 8, 9, 10, 11, 12, 13, 14, 15, 16, 17, 18, 19, 20, 21, 22, 23, 24, 25, 26, 27, 28, 29, 30, 31, 32, 33, 34, 35, 36, 37, 38, 39, 40, 41, 42, 43, 44, 45, 46, 47, 48, 49, 50, 51, 52, 53, 54, 55, 56, 57, 58, 59, 60, 61, 62, 63, 64, 65, 66, 67, 68, 69, 70, 71, 72, 73, 74, 75, 76, 77, 78, 79, 80, 81, 82, 83, 84, 85, 86, 87, 88, 89, 90, 91, 92, 93, 94, 95, 96, 97, 98, 99, 100, 101, 102, 103, 104, 105, 106, 107, 108, 109, 110, 111, 112, 113, 114, 115, 116, 117, 118, 119, 120, 121, 122, 123, 124, 125, 126, 127, 128, 129, 130, 131, 132, 133, 134, 135, 136, 137, 138, 139, 140, 141, 142, 143, 144, 145, 146, 147, 148, 149, 150, 151, 152, 153, 154, 155, 156, 157, 158, 159, 160, 161, 162, 163, 164, 165, 166, 167, 168, 169, 170, 171, 172, 173, 174, 175, 176, 177, 178, 179, 180, 181, 182, 183, 184, 185, 186, 187, 188, 189, 190, 191, 192, 193, 194, 195, 196, 197, 198, 199, 200, 201, 202, 203, 204, 205, 206, 207, 208, 209, 210, 211, 212, 213, 214, 215, 216, 217, 218, 219, 220, 221, 222, 223, 224, 225, 226, 227, 228, 229, 230, 231, 232, 233, 234, 235, 236, 237, 238, 239, 240, 241, 242, 243])"
      ]
     },
     "execution_count": 53,
     "metadata": {},
     "output_type": "execute_result"
    }
   ],
   "source": [
    "option=soup.find_all(\"input\",{\"type\":\"hidden\",\"id\":\"S04\"})\n",
    "option=option[0]['value']\n",
    "type(option)\n",
    "option=option.replace(\",\",\":'\")\n",
    "option=option.replace(\";\",\"',\")\n",
    "option\n",
    "C_dict={195:'Agiaon',70:'Alamnagar',148:'Alauli',81:'Alinagar',159:'Amarpur',120:'Amnour',56:'Amour',49:'Araria',194:'Arrah',214:'Arwal',171:'Asthawan',233:'Atri',89:'Aurai',223:'Aurangabad',34:'Babubarhi',142:'Bachhwara',4:'Bagaha',52:'Bahadurganj',85:'Bahadurpur',99:'Baikunthpur',57:'Baisi',27:'Bajpatti',147:'Bakhri',180:'Bakhtiarpur',65:'Balrampur',115:'Baniapur',161:'Banka',182:'Bankipur',59:'Banmankhi',228:'Barachatti',68:'Barari',100:'Barauli',170:'Barbigha',179:'Barh',193:'Barhara',110:'Barharia',96:'Baruraj',24:'Bathnaha',146:'Begusarai',232:'Belaganj',150:'Beldaur',163:'Belhar',30:'Belsand',32:'Benipatti',80:'Benipur',8:'Bettiah',205:'Bhabua',156:'Bhagalpur',103:'Bhorey',138:'Bibhutipur',71:'Bihariganj',172:'Biharsharif',152:'Bihpur',191:'Bikram',35:'Bisfi',91:'Bochaha',229:'Bodh Gaya',199:'Brahampur',200:'Buxar',206:'Chainpur',243:'Chakai',7:'Chanpatia',118:'Chapra',207:'Chenari',141:'Cheria Bariarpur',45:'Chhatapur',20:'Chiraiya',186:'Danapur',107:'Darauli',109:'Daraundha',83:'Darbhanga',82:'Darbhanga Rural',212:'Dehri',21:'Dhaka',61:'Dhamdaha',160:'Dhauraiya',181:'Digha',210:'Dinara',201:'Dumraon',113:'Ekma',185:'Fatuha',48:'Forbesganj',88:'Gaighat',119:'Garkha',79:'Gaura Bauram',230:'Gaya Town',217:'Ghosi',238:'Gobindpur',219:'Goh',101:'Gopalganj',153:'Gopalpur',111:'Goriakothi',14:'Govindganj',225:'Gurua',123:'Hajipur',31:'Harlakhi',177:'Harnaut',13:'Harsidhi (S.C)',140:'Hasanpur',104:'Hathua',84:'Hayaghat',175:'Hilsa',236:'Hisua',227:'Imamganj',174:'Islampur',197:'Jagdishpur',87:'Jale',166:'Jamalpur',241:'Jamui',216:'Jehanabad',242:'Jhajha',38:'Jhanjharpur',50:'Jokihat',64:'Kadwa',155:'Kahalgaon',131:'Kalyanpur',16:'Kalyanpur',95:'Kanti',213:'Karakat',209:'Kargahar',58:'Kasba',63:'Katihar',162:'Katoria',86:'Keoti',15:'Kesaria',149:'Khagaria',33:'Khajauli',54:'Kishanganj',55:'Kochadhaman',69:'Korha',102:'Kuchaikote',183:'Kumhrar',93:'Kurhani',215:'Kurtha',78:'Kusheshwar Asthan',222:'Kutumba',168:'Lakhisarai',124:'Lalganj',40:'Laukaha',5:'Lauriya',73:'Madhepura',18:'Madhuban',36:'Madhubani',112:'Maharajganj',77:'Mahishi',129:'Mahnar',126:'Mahua',218:'Makhdumpur',187:'Maner',67:'Manihari',114:'Manjhi',117:'Marhaura',189:'Masaurhi',144:'Matihani',90:'Minapur',204:'Mohania',137:'Mohiuddinnagar',178:'Mokama',135:'Morwa',19:'Motihari',165:'Munger',94:'Muzaffarpur',221:'Nabinagar',176:'Nalanda',12:'Narkatia',3:'Narkatiaganj',46:'Narpatganj',158:'Nathnagar',6:'Nautan',237:'Nawada',41:'Nirmali',211:'Nokha',220:'Obra',190:'Paliganj',151:'Parbatta',25:'Parihar',97:'Paroo',121:'Parsa',130:'Patepur',184:'Patna Sahib',39:'Phulparas',188:'Phulwari',17:'Pipra',42:'Pipra',154:'Pirpainti',66:'Pranpur',62:'Purnia',224:'Rafiganj',128:'Raghopur',108:'Raghunathpur',127:'Rajapakar',235:'Rajauli',173:'Rajgir',37:'Rajnagar',202:'Rajpur',203:'Ramgarh',2:'Ramnagar',47:'Raniganj',10:'Raxaul',23:'Riga',139:'Rosera',29:'Runnisaidpur',60:'Rupauli',75:'Saharsa',98:'Sahebganj',145:'Sahebpur Kamal',92:'Sakra',133:'Samastipur',192:'Sandesh',136:'Sarairanjan',208:'Sasaram',198:'Shahpur',169:'Sheikhpura',22:'Sheohar',226:'Sherghati',240:'Sikandra',9:'Sikta',51:'Sikti',76:'Simri Bakhtiarpur',72:'Singheshwar',28:'Sitamarhi',105:'Siwan',74:'Sonbarsha',122:'Sonepur',11:'Sugauli',157:'Sultanganj',43:'Supaul',167:'Surajgarha',26:'Sursand',116:'Taraiya',164:'Tarapur',196:'Tarari',143:'Teghra',53:'Thakurganj',231:'Tikari',44:'Triveniganj',134:'Ujiarpur',125:'Vaishali',1:'Valmikinagar',132:'Warisnagar',239:'Warsaliganj',234:'Wazirganj',106:'Ziradei'}\n",
    "C_dict=OrderedDict(sorted(C_dict.items()))\n",
    "C_dict.keys()"
   ]
  },
  {
   "cell_type": "code",
   "execution_count": 54,
   "metadata": {},
   "outputs": [
    {
     "data": {
      "text/html": [
       "<div>\n",
       "<style scoped>\n",
       "    .dataframe tbody tr th:only-of-type {\n",
       "        vertical-align: middle;\n",
       "    }\n",
       "\n",
       "    .dataframe tbody tr th {\n",
       "        vertical-align: top;\n",
       "    }\n",
       "\n",
       "    .dataframe thead th {\n",
       "        text-align: right;\n",
       "    }\n",
       "</style>\n",
       "<table border=\"1\" class=\"dataframe\">\n",
       "  <thead>\n",
       "    <tr style=\"text-align: right;\">\n",
       "      <th></th>\n",
       "      <th>Unnamed: 0</th>\n",
       "      <th>osn</th>\n",
       "      <th>candidate</th>\n",
       "      <th>party</th>\n",
       "      <th>evm_votes</th>\n",
       "      <th>postal_votes</th>\n",
       "      <th>total_votes</th>\n",
       "      <th>percentage_votes</th>\n",
       "      <th>contituencty</th>\n",
       "    </tr>\n",
       "  </thead>\n",
       "  <tbody>\n",
       "    <tr>\n",
       "      <td>0</td>\n",
       "      <td>0</td>\n",
       "      <td>1</td>\n",
       "      <td>Dhirendra Pratap Singh alias Rinku singh</td>\n",
       "      <td>Janata Dal (United)</td>\n",
       "      <td>74777</td>\n",
       "      <td>129</td>\n",
       "      <td>74906</td>\n",
       "      <td>38.32</td>\n",
       "      <td>1</td>\n",
       "    </tr>\n",
       "    <tr>\n",
       "      <td>1</td>\n",
       "      <td>1</td>\n",
       "      <td>2</td>\n",
       "      <td>Baidyanath Prasad</td>\n",
       "      <td>Bahujan Samaj Party</td>\n",
       "      <td>14475</td>\n",
       "      <td>23</td>\n",
       "      <td>14498</td>\n",
       "      <td>7.42</td>\n",
       "      <td>1</td>\n",
       "    </tr>\n",
       "    <tr>\n",
       "      <td>2</td>\n",
       "      <td>2</td>\n",
       "      <td>3</td>\n",
       "      <td>Mahendra Kumar Bharti</td>\n",
       "      <td>Lok Jan Shakti Party</td>\n",
       "      <td>6602</td>\n",
       "      <td>10</td>\n",
       "      <td>6612</td>\n",
       "      <td>3.38</td>\n",
       "      <td>1</td>\n",
       "    </tr>\n",
       "    <tr>\n",
       "      <td>3</td>\n",
       "      <td>3</td>\n",
       "      <td>4</td>\n",
       "      <td>Rajesh Singh</td>\n",
       "      <td>Indian National Congress</td>\n",
       "      <td>52952</td>\n",
       "      <td>369</td>\n",
       "      <td>53321</td>\n",
       "      <td>27.28</td>\n",
       "      <td>1</td>\n",
       "    </tr>\n",
       "    <tr>\n",
       "      <td>4</td>\n",
       "      <td>4</td>\n",
       "      <td>5</td>\n",
       "      <td>Gaurav Jha</td>\n",
       "      <td>The Plurals Party</td>\n",
       "      <td>2862</td>\n",
       "      <td>1</td>\n",
       "      <td>2863</td>\n",
       "      <td>1.46</td>\n",
       "      <td>1</td>\n",
       "    </tr>\n",
       "  </tbody>\n",
       "</table>\n",
       "</div>"
      ],
      "text/plain": [
       "   Unnamed: 0  osn                                 candidate  \\\n",
       "0           0    1  Dhirendra Pratap Singh alias Rinku singh   \n",
       "1           1    2                         Baidyanath Prasad   \n",
       "2           2    3                     Mahendra Kumar Bharti   \n",
       "3           3    4                              Rajesh Singh   \n",
       "4           4    5                                Gaurav Jha   \n",
       "\n",
       "                      party  evm_votes  postal_votes  total_votes  \\\n",
       "0       Janata Dal (United)      74777           129        74906   \n",
       "1       Bahujan Samaj Party      14475            23        14498   \n",
       "2      Lok Jan Shakti Party       6602            10         6612   \n",
       "3  Indian National Congress      52952           369        53321   \n",
       "4         The Plurals Party       2862             1         2863   \n",
       "\n",
       "   percentage_votes  contituencty  \n",
       "0             38.32             1  \n",
       "1              7.42             1  \n",
       "2              3.38             1  \n",
       "3             27.28             1  \n",
       "4              1.46             1  "
      ]
     },
     "execution_count": 54,
     "metadata": {},
     "output_type": "execute_result"
    }
   ],
   "source": [
    "df=pd.read_csv('./bihar_2020.csv')\n",
    "df.head()"
   ]
  },
  {
   "cell_type": "code",
   "execution_count": 55,
   "metadata": {},
   "outputs": [
    {
     "data": {
      "text/plain": [
       "odict_keys([1, 2, 3, 4, 5, 6, 7, 8, 9, 10, 11, 12, 13, 14, 15, 16, 17, 18, 19, 20, 21, 22, 23, 24, 25, 26, 27, 28, 29, 30, 31, 32, 33, 34, 35, 36, 37, 38, 39, 40, 41, 42, 43, 44, 45, 46, 47, 48, 49, 50, 51, 52, 53, 54, 55, 56, 57, 58, 59, 60, 61, 62, 63, 64, 65, 66, 67, 68, 69, 70, 71, 72, 73, 74, 75, 76, 77, 78, 79, 80, 81, 82, 83, 84, 85, 86, 87, 88, 89, 90, 91, 92, 93, 94, 95, 96, 97, 98, 99, 100, 101, 102, 103, 104, 105, 106, 107, 108, 109, 110, 111, 112, 113, 114, 115, 116, 117, 118, 119, 120, 121, 122, 123, 124, 125, 126, 127, 128, 129, 130, 131, 132, 133, 134, 135, 136, 137, 138, 139, 140, 141, 142, 143, 144, 145, 146, 147, 148, 149, 150, 151, 152, 153, 154, 155, 156, 157, 158, 159, 160, 161, 162, 163, 164, 165, 166, 167, 168, 169, 170, 171, 172, 173, 174, 175, 176, 177, 178, 179, 180, 181, 182, 183, 184, 185, 186, 187, 188, 189, 190, 191, 192, 193, 194, 195, 196, 197, 198, 199, 200, 201, 202, 203, 204, 205, 206, 207, 208, 209, 210, 211, 212, 213, 214, 215, 216, 217, 218, 219, 220, 221, 222, 223, 224, 225, 226, 227, 228, 229, 230, 231, 232, 233, 234, 235, 236, 237, 238, 239, 240, 241, 242, 243])"
      ]
     },
     "execution_count": 55,
     "metadata": {},
     "output_type": "execute_result"
    }
   ],
   "source": [
    "C_dict.keys()"
   ]
  },
  {
   "cell_type": "code",
   "execution_count": 56,
   "metadata": {},
   "outputs": [
    {
     "data": {
      "text/plain": [
       "\u001b[1;31mType:\u001b[0m        OrderedDict\n",
       "\u001b[1;31mString form:\u001b[0m OrderedDict([(1, 'Valmikinagar'), (2, 'Ramnagar'), (3, 'Narkatiaganj'), (4, 'Bagaha'), (5, 'Lauri <...> ur'), (239, 'Warsaliganj'), (240, 'Sikandra'), (241, 'Jamui'), (242, 'Jhajha'), (243, 'Chakai')])\n",
       "\u001b[1;31mLength:\u001b[0m      243\n",
       "\u001b[1;31mFile:\u001b[0m        c:\\programdata\\anaconda3\\lib\\collections\\__init__.py\n",
       "\u001b[1;31mDocstring:\u001b[0m   Dictionary that remembers insertion order\n"
      ]
     },
     "metadata": {},
     "output_type": "display_data"
    }
   ],
   "source": [
    "C_dict?"
   ]
  },
  {
   "cell_type": "code",
   "execution_count": 61,
   "metadata": {},
   "outputs": [
    {
     "data": {
      "text/html": [
       "<div>\n",
       "<style scoped>\n",
       "    .dataframe tbody tr th:only-of-type {\n",
       "        vertical-align: middle;\n",
       "    }\n",
       "\n",
       "    .dataframe tbody tr th {\n",
       "        vertical-align: top;\n",
       "    }\n",
       "\n",
       "    .dataframe thead th {\n",
       "        text-align: right;\n",
       "    }\n",
       "</style>\n",
       "<table border=\"1\" class=\"dataframe\">\n",
       "  <thead>\n",
       "    <tr style=\"text-align: right;\">\n",
       "      <th></th>\n",
       "      <th>Unnamed: 0</th>\n",
       "      <th>osn</th>\n",
       "      <th>candidate</th>\n",
       "      <th>party</th>\n",
       "      <th>evm_votes</th>\n",
       "      <th>postal_votes</th>\n",
       "      <th>total_votes</th>\n",
       "      <th>percentage_votes</th>\n",
       "      <th>contituencty</th>\n",
       "    </tr>\n",
       "  </thead>\n",
       "  <tbody>\n",
       "    <tr>\n",
       "      <td>count</td>\n",
       "      <td>3976</td>\n",
       "      <td>3976</td>\n",
       "      <td>3976</td>\n",
       "      <td>3976</td>\n",
       "      <td>3976</td>\n",
       "      <td>3976</td>\n",
       "      <td>3976</td>\n",
       "      <td>3976.00</td>\n",
       "      <td>3976</td>\n",
       "    </tr>\n",
       "    <tr>\n",
       "      <td>unique</td>\n",
       "      <td>32</td>\n",
       "      <td>32</td>\n",
       "      <td>3357</td>\n",
       "      <td>213</td>\n",
       "      <td>2825</td>\n",
       "      <td>443</td>\n",
       "      <td>2833</td>\n",
       "      <td>1027.00</td>\n",
       "      <td>241</td>\n",
       "    </tr>\n",
       "    <tr>\n",
       "      <td>top</td>\n",
       "      <td>Ramnagar</td>\n",
       "      <td>Lauriya</td>\n",
       "      <td>NOTA</td>\n",
       "      <td>Independent</td>\n",
       "      <td>461</td>\n",
       "      <td>0</td>\n",
       "      <td>677</td>\n",
       "      <td>0.24</td>\n",
       "      <td>Pipra</td>\n",
       "    </tr>\n",
       "    <tr>\n",
       "      <td>freq</td>\n",
       "      <td>243</td>\n",
       "      <td>243</td>\n",
       "      <td>243</td>\n",
       "      <td>1300</td>\n",
       "      <td>9</td>\n",
       "      <td>895</td>\n",
       "      <td>6</td>\n",
       "      <td>43.00</td>\n",
       "      <td>35</td>\n",
       "    </tr>\n",
       "  </tbody>\n",
       "</table>\n",
       "</div>"
      ],
      "text/plain": [
       "       Unnamed: 0      osn candidate        party  evm_votes  postal_votes  \\\n",
       "count        3976     3976      3976         3976       3976          3976   \n",
       "unique         32       32      3357          213       2825           443   \n",
       "top      Ramnagar  Lauriya      NOTA  Independent        461             0   \n",
       "freq          243      243       243         1300          9           895   \n",
       "\n",
       "        total_votes  percentage_votes contituencty  \n",
       "count          3976           3976.00         3976  \n",
       "unique         2833           1027.00          241  \n",
       "top             677              0.24        Pipra  \n",
       "freq              6             43.00           35  "
      ]
     },
     "execution_count": 61,
     "metadata": {},
     "output_type": "execute_result"
    }
   ],
   "source": [
    "df1=df.replace(C_dict)\n",
    "df1.head()\n",
    "df1.describe()"
   ]
  },
  {
   "cell_type": "code",
   "execution_count": 50,
   "metadata": {},
   "outputs": [],
   "source": [
    "df1.to_csv(\"bihar_2020_constituency.csv\")"
   ]
  }
 ],
 "metadata": {
  "kernelspec": {
   "display_name": "Python 3",
   "language": "python",
   "name": "python3"
  },
  "language_info": {
   "codemirror_mode": {
    "name": "ipython",
    "version": 3
   },
   "file_extension": ".py",
   "mimetype": "text/x-python",
   "name": "python",
   "nbconvert_exporter": "python",
   "pygments_lexer": "ipython3",
   "version": "3.7.4"
  }
 },
 "nbformat": 4,
 "nbformat_minor": 4
}
